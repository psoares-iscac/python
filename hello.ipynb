{
 "cells": [
  {
   "cell_type": "code",
   "execution_count": null,
   "metadata": {},
   "outputs": [],
   "source": [
    "# o nosso primeiro programa\n",
    "\n",
    "print('Hello world!!')\n",
    "print(\"Hello world!!\")"
   ]
  },
  {
   "cell_type": "code",
   "execution_count": null,
   "metadata": {},
   "outputs": [],
   "source": [
    "# segundo programa\n",
    "\n",
    "print(4 + 3)\n",
    "print('O resultado de 4 + 3 = ', 4 + 3)"
   ]
  },
  {
   "cell_type": "code",
   "execution_count": 29,
   "metadata": {},
   "outputs": [
    {
     "name": "stdout",
     "output_type": "stream",
     "text": [
      "Primeiro número:  12\n",
      "Segundo número:  23\n",
      "Soma =  35\n",
      "12 + 23 = 35\n",
      "12 + 23 = 35\n"
     ]
    }
   ],
   "source": [
    "# pede 2 numeros e apresenta a soma\n",
    "num1 = 12 #int(input('Introduza o primeiro número: '))\n",
    "num2 = 23 #int(input('Introduza o segundo número: '))\n",
    "soma = num1 + num2\n",
    "\n",
    "\n",
    "print('Primeiro número: ', num1)\n",
    "print('Segundo número: ', num2)\n",
    "print('Soma = ', soma)\n",
    "\n",
    "print(num1, '+', num2, '=', soma)\n",
    "print(f'{num1} + {num2} = {num1 + num2}')\n",
    "#print('{2} + {1} = {0}'.format(soma, num2, num1))\n"
   ]
  },
  {
   "cell_type": "code",
   "execution_count": null,
   "metadata": {},
   "outputs": [],
   "source": [
    "a = 45  # int\n",
    "b = 8   # int\n",
    "r1 = a / b  # float\n",
    "r2 = a // b\n",
    "r3 = a % b\n",
    "r4 = r1 - r2\n",
    "\n",
    "print(f'{r1:.1f}')\n",
    "print(f'{r2}')\n",
    "print(r4)\n",
    "\n"
   ]
  },
  {
   "cell_type": "code",
   "execution_count": 52,
   "metadata": {},
   "outputs": [
    {
     "name": "stdout",
     "output_type": "stream",
     "text": [
      "0.625\n"
     ]
    }
   ],
   "source": [
    "print(r4)"
   ]
  }
 ],
 "metadata": {
  "interpreter": {
   "hash": "b3ba2566441a7c06988d0923437866b63cedc61552a5af99d1f4fb67d367b25f"
  },
  "kernelspec": {
   "display_name": "Python 3.8.8 64-bit ('base': conda)",
   "name": "python3"
  },
  "language_info": {
   "codemirror_mode": {
    "name": "ipython",
    "version": 3
   },
   "file_extension": ".py",
   "mimetype": "text/x-python",
   "name": "python",
   "nbconvert_exporter": "python",
   "pygments_lexer": "ipython3",
   "version": "3.8.8"
  },
  "orig_nbformat": 4
 },
 "nbformat": 4,
 "nbformat_minor": 2
}
